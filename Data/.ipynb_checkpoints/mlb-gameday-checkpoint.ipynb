{
 "cells": [
  {
   "cell_type": "markdown",
   "metadata": {},
   "source": [
    "# MLB Gameday Scraper\n",
    "This scraper goes out to [mlb.com](https://www.mlb.com/scores/) and pulls down all of the data on that page (final runs,hits,errors, team, team record, pitcher, pitcher record, etc. - not the inning by inning boxes tho). It saves the data as a csv in the data directory. \n",
    "\n",
    "We use five selenium windows in parallel because they've got some javascript loading thingy that you have to wait for."
   ]
  },
  {
   "cell_type": "code",
   "execution_count": 1,
   "metadata": {},
   "outputs": [],
   "source": [
    "from selenium import webdriver\n",
    "from selenium.webdriver.support.ui import WebDriverWait\n",
    "from selenium.webdriver.support import expected_conditions as EC\n",
    "from selenium.webdriver.firefox.options import Options\n",
    "from selenium.webdriver.common.by import By\n",
    "\n",
    "from bs4 import BeautifulSoup as bs\n",
    "\n",
    "import re\n",
    "import threading\n",
    "import queue\n",
    "import time\n",
    "\n",
    "import pandas as pd\n",
    "import numpy as np"
   ]
  },
  {
   "cell_type": "code",
   "execution_count": 2,
   "metadata": {},
   "outputs": [],
   "source": [
    "%matplotlib inline\n",
    "%load_ext autoreload\n",
    "%autoreload 2\n",
    "\n",
    "import warnings\n",
    "warnings.filterwarnings('ignore')\n",
    "warnings.simplefilter(action='ignore', category=FutureWarning)"
   ]
  },
  {
   "cell_type": "code",
   "execution_count": 3,
   "metadata": {},
   "outputs": [],
   "source": [
    "def get_box_data(day, driver):\n",
    "    #get url\n",
    "    url = f'https://www.mlb.com/scores/{day}'\n",
    "    driver.get(url)\n",
    "    time.sleep(5) # give it a couple of more second to load\n",
    "    soup = bs(driver.page_source.encode(\"utf-8\"), \"lxml\")\n",
    "    \n",
    "    #scrape data from page\n",
    "    games = []\n",
    "    matchups = soup.findAll('div',{'class':'g5-component--mlb-scores__panel--primary'})\n",
    "    for m in matchups:\n",
    "        game={}\n",
    "        team_names = m.findAll('span',{'class':'g5-component--mlb-scores__team__info__name--long'})\n",
    "        game['away_team_name'] = team_names[0].text.strip()\n",
    "        game['home_team_name'] = team_names[1].text.strip()\n",
    "\n",
    "        team_abbr = m.findAll('span',{'class':'g5-component--mlb-scores__team__info__name--abbrev'})\n",
    "        game['away_team_abbr'] = team_abbr[0].text.strip()\n",
    "        game['home_team_abbr'] = team_abbr[1].text.strip()\n",
    "        try:\n",
    "            team_record = m.findAll('span',{'class':'g5-component--mlb-scores__team__info__record'})\n",
    "            game['away_team_wins'] = team_record[0].text.strip().split('-')[0]\n",
    "            game['away_team_losses'] = team_record[0].text.strip().split('-')[1]\n",
    "            game['home_team_wins'] = team_record[1].text.strip().split('-')[0]\n",
    "            game['home_team_losses'] = team_record[1].text.strip().split('-')[1]\n",
    "        except:\n",
    "            # we can live without this\n",
    "            pass\n",
    "        \n",
    "        try:\n",
    "            team_runs = m.findAll('td',{'class':'g5-component--mlb-scores__linescore__table--summary__cell--runs'})\n",
    "            game['away_team_runs'] = team_runs[0].text.strip()\n",
    "            game['home_team_runs'] = team_runs[1].text.strip()\n",
    "        except:\n",
    "            #can't live without this, and sometimes get an error\n",
    "            # we'll also see cases where this doesn't throw an exception, \n",
    "            # but we get blank data - that's usu a postponement\n",
    "            continue\n",
    "\n",
    "        team_hits = m.findAll('td',{'class':'g5-component--mlb-scores__linescore__table--summary__cell--hits'})\n",
    "        game['away_team_hits'] = team_hits[0].text.strip()\n",
    "        game['home_team_hits'] = team_hits[1].text.strip()\n",
    "\n",
    "        team_errors = m.findAll('td',{'class':'g5-component--mlb-scores__linescore__table--summary__cell--errors'})\n",
    "        game['away_team_errors'] = team_errors[0].text.strip()\n",
    "        game['home_team_errors'] = team_errors[1].text.strip()\n",
    "        \n",
    "        try:\n",
    "            team_pitcher = m.findAll('td',{'class':'g5-component--mlb-scores__player__text'})\n",
    "            game['winning_pitcher'] = team_pitcher[0].find('a')['href'].split('/')[-1]\n",
    "            game['losing_pitcher'] = team_pitcher[1].find('a')['href'].split('/')[-1]\n",
    "\n",
    "            team_pitcher_stats = m.findAll('span',{'class':'g5-component--mlb-scores__player__text__line-2'})\n",
    "            pattern = \"(\\d+)\\-(\\d+),\\s+(\\d+\\.\\d+) ERA\"\n",
    "            g = re.search(pattern, team_pitcher_stats[0].text)\n",
    "            game['winning_pitcher_wins'] = g.group(1)\n",
    "            game['winning_pitcher_losses'] = g.group(2)\n",
    "            game['winning_pitcher_era'] = g.group(3)\n",
    "            g = re.search(pattern, team_pitcher_stats[1].text)\n",
    "            game['losing_pitcher_wins'] = g.group(1)\n",
    "            game['losing_pitcher_losses'] = g.group(2)\n",
    "            game['losing_pitcher_era'] = g.group(3)\n",
    "        except:\n",
    "            # we can live without this\n",
    "            pass\n",
    "        \n",
    "        games.append(game)\n",
    "\n",
    "    return games"
   ]
  },
  {
   "cell_type": "code",
   "execution_count": 4,
   "metadata": {},
   "outputs": [],
   "source": [
    "def do_work(q, lock):\n",
    "    #start a web browser\n",
    "    driver = webdriver.Firefox()\n",
    "    driver.implicitly_wait(10)\n",
    "    \n",
    "    #start working through the queue\n",
    "    while not q.empty():\n",
    "        day = q.get()\n",
    "        games = get_box_data(day, driver)\n",
    "        \n",
    "        #some days have no games\n",
    "        if len(games)==0:\n",
    "            q.task_done()\n",
    "            print(f\"{day} no games.\")\n",
    "            continue\n",
    "        \n",
    "        new_games = pd.DataFrame(games)\n",
    "        new_games['date']=day\n",
    "        \n",
    "        #save the games to disk\n",
    "        lock.acquire()\n",
    "        try:\n",
    "            game_df = pd.read_csv('data/mlb-gameday.csv', low_memory=False)\n",
    "        except:\n",
    "            game_df = pd.DataFrame()\n",
    "        game_df = pd.concat([game_df,new_games])\n",
    "        game_df['date'] = pd.to_datetime(game_df.date).dt.date\n",
    "        game_df.to_csv('data/mlb-gameday.csv', index=False)\n",
    "        lock.release()\n",
    "        \n",
    "        q.task_done()\n",
    "        print(f\"{day} done.\")\n",
    "    driver.quit()"
   ]
  },
  {
   "cell_type": "code",
   "execution_count": 5,
   "metadata": {},
   "outputs": [
    {
     "data": {
      "text/plain": [
       "1569"
      ]
     },
     "execution_count": 5,
     "metadata": {},
     "output_type": "execute_result"
    }
   ],
   "source": [
    "#fill the queue with dates that we need games from\n",
    "q = queue.Queue(maxsize=0)\n",
    "\n",
    "#get last date from disk if we've already saved some data\n",
    "try:\n",
    "    game_df = pd.read_csv('data/mlb-gameday.csv', low_memory=False)\n",
    "    get_day = pd.to_datetime(game_df.date.max()).strftime('%Y-%m-%d')\n",
    "except:\n",
    "    get_day = '2002-03-01'\n",
    "    \n",
    "# fill queue with all the dates until yesterday\n",
    "yesterday = pd.datetime.now().date() - pd.Timedelta(days=1)\n",
    "days = []\n",
    "while  pd.to_datetime(get_day).date() < yesterday:\n",
    "    get_day = (pd.to_datetime(get_day).date() + pd.Timedelta(days=1)).strftime('%Y-%m-%d')\n",
    "    if pd.to_datetime(get_day).month<3:continue    # baseball doesn't happen before march\n",
    "    if pd.to_datetime(get_day).month>11:continue   # baseball doesn't happen in december\n",
    "    q.put(get_day)\n",
    "q.qsize()"
   ]
  },
  {
   "cell_type": "code",
   "execution_count": null,
   "metadata": {
    "scrolled": true
   },
   "outputs": [],
   "source": [
    "num_threads = 5    # num of firefox windows\n",
    "lock = threading.Lock()\n",
    "\n",
    "#start the workers\n",
    "for i in range(num_threads):\n",
    "    worker = threading.Thread(target=do_work, args=(q,lock,))\n",
    "    worker.setDaemon(True)\n",
    "    worker.start()\n",
    "        \n",
    "#wait for workers to finish\n",
    "q.join()"
   ]
  },
  {
   "cell_type": "code",
   "execution_count": null,
   "metadata": {},
   "outputs": [],
   "source": []
  }
 ],
 "metadata": {
  "kernelspec": {
   "display_name": "Python 3",
   "language": "python",
   "name": "python3"
  },
  "language_info": {
   "codemirror_mode": {
    "name": "ipython",
    "version": 3
   },
   "file_extension": ".py",
   "mimetype": "text/x-python",
   "name": "python",
   "nbconvert_exporter": "python",
   "pygments_lexer": "ipython3",
   "version": "3.6.8"
  },
  "toc": {
   "base_numbering": 1,
   "nav_menu": {},
   "number_sections": true,
   "sideBar": true,
   "skip_h1_title": false,
   "title_cell": "Table of Contents",
   "title_sidebar": "Contents",
   "toc_cell": false,
   "toc_position": {},
   "toc_section_display": true,
   "toc_window_display": false
  }
 },
 "nbformat": 4,
 "nbformat_minor": 2
}
